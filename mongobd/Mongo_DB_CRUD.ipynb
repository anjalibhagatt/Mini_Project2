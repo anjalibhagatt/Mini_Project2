{
 "cells": [
  {
   "cell_type": "code",
   "execution_count": 2,
   "id": "92b43d90-01f9-4ac8-a1ea-d00b9b5b5989",
   "metadata": {
    "tags": []
   },
   "outputs": [],
   "source": [
    "import pymongo\n",
    "\n",
    "myclient = pymongo.MongoClient(\"mongodb://localhost:27017/\")\n",
    "mydb = myclient[\"mydatabase\"]"
   ]
  },
  {
   "cell_type": "code",
   "execution_count": 3,
   "id": "a83dd045-0af4-481d-abbb-fa2438144c88",
   "metadata": {
    "tags": []
   },
   "outputs": [],
   "source": [
    "mydb=myclient[\"student\"]"
   ]
  },
  {
   "cell_type": "code",
   "execution_count": 4,
   "id": "2242e7cf-2b3c-4c92-8fe4-6cba95afed16",
   "metadata": {
    "tags": []
   },
   "outputs": [],
   "source": [
    "mycol = mydb[\"customers\"]\n"
   ]
  },
  {
   "cell_type": "code",
   "execution_count": 5,
   "id": "39f90b4a-1820-4a7b-845b-39019b0aebdc",
   "metadata": {
    "tags": []
   },
   "outputs": [],
   "source": [
    "mydict = { \"name\": \"John\", \"address\": \"Highway 37\" }\n",
    "\n",
    "x = mycol.insert_one(mydict)"
   ]
  },
  {
   "cell_type": "code",
   "execution_count": 6,
   "id": "601f3b52-336a-4b36-b3be-e29543471662",
   "metadata": {},
   "outputs": [],
   "source": [
    "mydict = { \"name\": \"John\", \"address\": \"Highway 37\", \"age\" : \"23\" }\n",
    "\n",
    "x = mycol.insert_one(mydict)"
   ]
  },
  {
   "cell_type": "code",
   "execution_count": 7,
   "id": "70701425-2e2f-4dc5-a225-6956fb79a23a",
   "metadata": {
    "tags": []
   },
   "outputs": [
    {
     "name": "stdout",
     "output_type": "stream",
     "text": [
      "[ObjectId('66ed7ce4921c722e641137bd'), ObjectId('66ed7ce4921c722e641137be'), ObjectId('66ed7ce4921c722e641137bf'), ObjectId('66ed7ce4921c722e641137c0'), ObjectId('66ed7ce4921c722e641137c1'), ObjectId('66ed7ce4921c722e641137c2'), ObjectId('66ed7ce4921c722e641137c3'), ObjectId('66ed7ce4921c722e641137c4'), ObjectId('66ed7ce4921c722e641137c5'), ObjectId('66ed7ce4921c722e641137c6'), ObjectId('66ed7ce4921c722e641137c7'), ObjectId('66ed7ce4921c722e641137c8')]\n"
     ]
    }
   ],
   "source": [
    "mylist = [\n",
    "  { \"name\": \"Amy\", \"address\": \"Apple st 652\"},\n",
    "  { \"name\": \"Hannah\", \"address\": \"Mountain 21\"},\n",
    "  { \"name\": \"Michael\", \"address\": \"Valley 345\"},\n",
    "  { \"name\": \"Sandy\", \"address\": \"Ocean blvd 2\"},\n",
    "  { \"name\": \"Betty\", \"address\": \"Green Grass 1\"},\n",
    "  { \"name\": \"Richard\", \"address\": \"Sky st 331\"},\n",
    "  { \"name\": \"Susan\", \"address\": \"One way 98\"},\n",
    "  { \"name\": \"Vicky\", \"address\": \"Yellow Garden 2\"},\n",
    "  { \"name\": \"Ben\", \"address\": \"Park Lane 38\"},\n",
    "  { \"name\": \"William\", \"address\": \"Central st 954\"},\n",
    "  { \"name\": \"Chuck\", \"address\": \"Main Road 989\"},\n",
    "  { \"name\": \"Viola\", \"address\": \"Sideway 1633\"}\n",
    "]\n",
    "\n",
    "x = mycol.insert_many(mylist)\n",
    "\n",
    "#print list of the _id values of the inserted documents:\n",
    "print(x.inserted_ids)"
   ]
  },
  {
   "cell_type": "code",
   "execution_count": 8,
   "id": "dc217b66-9364-43a8-868f-99a2b2cc90bf",
   "metadata": {
    "tags": []
   },
   "outputs": [
    {
     "name": "stdout",
     "output_type": "stream",
     "text": [
      "{'_id': ObjectId('66ed7c52921c722e641137bb'), 'name': 'John', 'address': 'Highway 37'}\n",
      "{'_id': ObjectId('66ed7c55921c722e641137bc'), 'name': 'John', 'address': 'Highway 37', 'age': '23'}\n",
      "{'_id': ObjectId('66ed7ce4921c722e641137bd'), 'name': 'Amy', 'address': 'Apple st 652'}\n",
      "{'_id': ObjectId('66ed7ce4921c722e641137be'), 'name': 'Hannah', 'address': 'Mountain 21'}\n",
      "{'_id': ObjectId('66ed7ce4921c722e641137bf'), 'name': 'Michael', 'address': 'Valley 345'}\n",
      "{'_id': ObjectId('66ed7ce4921c722e641137c0'), 'name': 'Sandy', 'address': 'Ocean blvd 2'}\n",
      "{'_id': ObjectId('66ed7ce4921c722e641137c1'), 'name': 'Betty', 'address': 'Green Grass 1'}\n",
      "{'_id': ObjectId('66ed7ce4921c722e641137c2'), 'name': 'Richard', 'address': 'Sky st 331'}\n",
      "{'_id': ObjectId('66ed7ce4921c722e641137c3'), 'name': 'Susan', 'address': 'One way 98'}\n",
      "{'_id': ObjectId('66ed7ce4921c722e641137c4'), 'name': 'Vicky', 'address': 'Yellow Garden 2'}\n",
      "{'_id': ObjectId('66ed7ce4921c722e641137c5'), 'name': 'Ben', 'address': 'Park Lane 38'}\n",
      "{'_id': ObjectId('66ed7ce4921c722e641137c6'), 'name': 'William', 'address': 'Central st 954'}\n",
      "{'_id': ObjectId('66ed7ce4921c722e641137c7'), 'name': 'Chuck', 'address': 'Main Road 989'}\n",
      "{'_id': ObjectId('66ed7ce4921c722e641137c8'), 'name': 'Viola', 'address': 'Sideway 1633'}\n"
     ]
    }
   ],
   "source": [
    "for x in mycol.find():\n",
    "  print(x)"
   ]
  },
  {
   "cell_type": "code",
   "execution_count": 9,
   "id": "1e2baabf-0f51-41b1-b922-b695e6d528d2",
   "metadata": {
    "tags": []
   },
   "outputs": [
    {
     "name": "stdout",
     "output_type": "stream",
     "text": [
      "{'_id': ObjectId('66ed7ce4921c722e641137bf'), 'name': 'Michael', 'address': 'Valley 345'}\n",
      "{'_id': ObjectId('66ed7ce4921c722e641137c2'), 'name': 'Richard', 'address': 'Sky st 331'}\n",
      "{'_id': ObjectId('66ed7ce4921c722e641137c4'), 'name': 'Vicky', 'address': 'Yellow Garden 2'}\n",
      "{'_id': ObjectId('66ed7ce4921c722e641137c8'), 'name': 'Viola', 'address': 'Sideway 1633'}\n"
     ]
    }
   ],
   "source": [
    "myquery = { \"address\": { \"$gt\": \"S\" } }\n",
    "\n",
    "mydoc = mycol.find(myquery)\n",
    "\n",
    "for x in mydoc:\n",
    "  print(x)"
   ]
  },
  {
   "cell_type": "code",
   "execution_count": null,
   "id": "b818da06-79fd-436c-b9a3-3ca78e8823fa",
   "metadata": {},
   "outputs": [],
   "source": []
  }
 ],
 "metadata": {
  "kernelspec": {
   "display_name": "Python 3 (ipykernel)",
   "language": "python",
   "name": "python3"
  },
  "language_info": {
   "codemirror_mode": {
    "name": "ipython",
    "version": 3
   },
   "file_extension": ".py",
   "mimetype": "text/x-python",
   "name": "python",
   "nbconvert_exporter": "python",
   "pygments_lexer": "ipython3",
   "version": "3.7.9"
  }
 },
 "nbformat": 4,
 "nbformat_minor": 5
}
